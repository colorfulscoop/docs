{
 "cells": [
  {
   "cell_type": "markdown",
   "id": "bottom-raise",
   "metadata": {},
   "source": [
    "---\n",
    "created_on: 2021/04/03\n",
    "updated_on: 2021/04/05\n",
    "---"
   ]
  },
  {
   "cell_type": "markdown",
   "id": "behind-antarctica",
   "metadata": {},
   "source": [
    "# PyTorch での言語モデル学習 - 学習パイプライン"
   ]
  },
  {
   "cell_type": "markdown",
   "id": "great-identity",
   "metadata": {},
   "source": [
    "このドキュメントでは、PyTorch で言語モデルを学習する際の学習パイプラインの組み方を説明します。\n",
    "\n",
    "モデルを学習する際には、モデル自体の実装に比べて、データのロードや学習ループの作成といった箇所が大部分を占めます。\n",
    "そこで、このドキュメントでは、言語モデル自体の詳細に踏み込むことはせず、\n",
    "それ以外の Dataset, DataLoader, 学習ループの作成に注目することにします。\n",
    "言語モデルは Hugging Face transformers の [OpenAI GPT2](https://huggingface.co/transformers/model_doc/gpt2.html)\n",
    "モデルを使うことにし、詳細は触れません。"
   ]
  },
  {
   "cell_type": "markdown",
   "id": "looking-sunrise",
   "metadata": {},
   "source": [
    "## 環境のセットアップ"
   ]
  },
  {
   "cell_type": "markdown",
   "id": "eight-correction",
   "metadata": {},
   "source": [
    "自分の環境の CUDA のバージョンを確認して、[公式ドキュメント](https://pytorch.org/get-started/locally/)に従って\n",
    "対応するPyTorchをインストールします。\n",
    "ここではCUDA 11.1対応の Pytorch をインストールします。"
   ]
  },
  {
   "cell_type": "code",
   "execution_count": null,
   "id": "cognitive-craps",
   "metadata": {},
   "outputs": [],
   "source": [
    "!pip3 install torch==1.8.1+cu111 -f https://download.pytorch.org/whl/torch_stable.html"
   ]
  },
  {
   "cell_type": "markdown",
   "id": "popular-bathroom",
   "metadata": {},
   "source": [
    "Hugging Face のモデルを利用するために、 Transformers と、トークナイザを利用するために SentencePiece のパッケージをインストールします。"
   ]
  },
  {
   "cell_type": "code",
   "execution_count": null,
   "id": "short-craps",
   "metadata": {},
   "outputs": [],
   "source": [
    "!pip3 install transformers==4.4.2 sentencepiece==0.1.95"
   ]
  },
  {
   "cell_type": "markdown",
   "id": "demonstrated-merit",
   "metadata": {},
   "source": [
    "**Note:** このドキュメントの実行環境は、次のように Docker コンテナにより環境をセットアップしています。\n",
    "\n",
    "```sh\n",
    "$ docker container run --gpus all --rm -it -v $(pwd):/work -w /work -p 8888:8888 nvidia/cuda:11.2.2-devel-ubuntu20.04 bash\n",
    "(container)$ apt update && apt install -y python3 python3-pip\n",
    "(container)$ pip3 install jupyter==1.0.0\n",
    "(container)$ jupyter notebook --ip 0.0.0.0 --allow-root\n",
    "```"
   ]
  },
  {
   "cell_type": "markdown",
   "id": "violent-sydney",
   "metadata": {},
   "source": [
    "## トークナイザーの準備"
   ]
  },
  {
   "cell_type": "markdown",
   "id": "veterinary-finish",
   "metadata": {},
   "source": [
    "言語モデルの学習には、テキストを ID のリストに変換する必要があります。\n",
    "今回は、 Hugging Face の model hub で公開している SentencePiece モデルを利用することにします。"
   ]
  },
  {
   "cell_type": "code",
   "execution_count": 1,
   "id": "loaded-frequency",
   "metadata": {},
   "outputs": [],
   "source": [
    "import transformers"
   ]
  },
  {
   "cell_type": "code",
   "execution_count": 2,
   "id": "bright-transportation",
   "metadata": {},
   "outputs": [],
   "source": [
    "tokenizer = transformers.AutoTokenizer.from_pretrained(\"colorfulscoop/gpt2-small-ja\")"
   ]
  },
  {
   "cell_type": "markdown",
   "id": "favorite-examination",
   "metadata": {},
   "source": [
    "一度 tokenizer をインスタンス化すれば、 `encode` と `decode` を通して文字列を ID のリストに、またその逆を行うことができます。"
   ]
  },
  {
   "cell_type": "code",
   "execution_count": 3,
   "id": "removable-eligibility",
   "metadata": {},
   "outputs": [
    {
     "data": {
      "text/plain": [
       "[9069, 8, 6640, 191, 8, 2505]"
      ]
     },
     "execution_count": 3,
     "metadata": {},
     "output_type": "execute_result"
    }
   ],
   "source": [
    "tokenizer.encode(\"テキストのID化のテスト\")"
   ]
  },
  {
   "cell_type": "markdown",
   "id": "improved-bundle",
   "metadata": {},
   "source": [
    "`encode` してから `decode` を行うと元の文字列に戻ることがわかります。"
   ]
  },
  {
   "cell_type": "code",
   "execution_count": 4,
   "id": "associate-ownership",
   "metadata": {},
   "outputs": [
    {
     "data": {
      "text/plain": [
       "'テキストのID化のテスト'"
      ]
     },
     "execution_count": 4,
     "metadata": {},
     "output_type": "execute_result"
    }
   ],
   "source": [
    "tokenizer.decode(tokenizer.encode(\"テキストのID化のテスト\"))"
   ]
  },
  {
   "cell_type": "markdown",
   "id": "adjacent-collect",
   "metadata": {},
   "source": [
    "## 学習パイプライン\n",
    "\n",
    "PyTorch でモデルを学習する際の流れ（ここではこれを **学習パイプライン** と呼ぶことにします）は次のようになります。\n",
    "\n",
    "1. Dataset の作成\n",
    "1. DataLoader の作成\n",
    "1. モデルの準備\n",
    "1. 学習ループ\n",
    "\n",
    "Datasetの作成では、モデルへ入力するデータを提供するDatasetを作成します。\n",
    "\n",
    "DataLoaderの作成では、Datasetが提供するデータを、モデルが効率的に扱えるバッチの形に変換するDataLoaderを作成します。\n",
    "\n",
    "モデルの準備では、学習するモデルを作成します。今回は Hugging Face transformers のモデルを利用しますが、必要に応じて自分でモデルを実装することになります。\n",
    "\n",
    "学習ループでは、DataLoaderから受け取ったバッチに対して、損失の計算グラフの作成、損失の計算グラフから勾配の計算、そしてモデルのパラメータのアップデートのサイクルを回します。\n",
    "\n",
    "以下では順を追って各ステップを見ていきます。"
   ]
  },
  {
   "cell_type": "markdown",
   "id": "negative-conversation",
   "metadata": {},
   "source": [
    "## Dataset の作成\n",
    "\n",
    "PyTorch でモデル学習のためにはじめに行うことは DataLoader の作成です。\n",
    "DatLoader はデータをロードする役目を追っており、言語モデルの場合にはテキストデータを特定の長さの ID のリストに変換する処理を行います。\n",
    "\n",
    "PyTorch の Dataset は [大きく二つの種類](https://pytorch.org/docs/stable/data.html#dataset-types) があります。\n",
    "\n",
    "1. Map-style datasets\n",
    "2. Iterable-style datasets\n",
    "\n",
    "Map-style datasets は、 `__getitem__()` と `__len__()` を実装した任意のクラスがなり得ます。\n",
    "データサイズがメモリに余裕を持って乗る場合には扱いやすいクラスです。\n",
    "\n",
    "一方で Iterable-style dataset は、 `IterableDataset` クラスを継承し、その上で `__iter__()` メソッドを実装する必要があります。\n",
    "データサイズがメモリに乗らないような場合にはこちらを選択する必要があります。\n",
    "\n",
    "一般的に近年の言語モデルは数 GB 〜 数十 GB のデータを扱う必要があるため、ここでは Iterable-style dataset を実装することにします。"
   ]
  },
  {
   "cell_type": "code",
   "execution_count": 5,
   "id": "weekly-worse",
   "metadata": {},
   "outputs": [],
   "source": [
    "import torch\n",
    "\n",
    "\n",
    "class BlockDataset(torch.utils.data.IterableDataset):\n",
    "    def __init__(self, tokenizer, generator, block_size, drop_last=True):\n",
    "        super().__init__()\n",
    "        self._block_size = block_size\n",
    "        self._tokenizer = tokenizer\n",
    "        self._generator = generator\n",
    "        self._drop_last = drop_last\n",
    "\n",
    "    @classmethod\n",
    "    def from_texts(cls, tokenizer, texts, block_size):\n",
    "        return cls(tokenizer=tokenizer, generator=lambda: texts, block_size=block_size)\n",
    "\n",
    "    @classmethod\n",
    "    def from_file(cls, tokenizer, filepath, block_size):\n",
    "        return cls(tokenizer=tokenizer,\n",
    "                   generator=lambda: (line.strip(\"\\n\") for line in open(filepath)),\n",
    "                   block_size=block_size\n",
    "                  )\n",
    "    \n",
    "    def __iter__(self):\n",
    "        \"\"\"\n",
    "            Yields (List[int])\n",
    "        \"\"\"\n",
    "        ids = []\n",
    "        for text in self._generator():\n",
    "            ids.extend(self._tokenizer.encode(text))\n",
    "            while len(ids) >= self._block_size+1:\n",
    "                yield {\"input_ids\": ids[:self._block_size], \"labels\": ids[1:self._block_size+1]}\n",
    "                ids = ids[self._block_size:]\n",
    "        if not self._drop_last:\n",
    "            yield ids"
   ]
  },
  {
   "cell_type": "markdown",
   "id": "viral-large",
   "metadata": {},
   "source": [
    "`BlockDataset` という Iterable-style dataset を実装してみました。\n",
    "`from_texts` というクラスメソッドでテキストから、`from_file` というクラスメソッドでファイルからテキストを読み込み、tokenizerでID化したのちに、 `block_size` に区切って出力を行います。\n",
    "\n",
    "簡単な例で動作を確認してみましょう。"
   ]
  },
  {
   "cell_type": "code",
   "execution_count": 6,
   "id": "broad-threat",
   "metadata": {},
   "outputs": [
    {
     "data": {
      "text/plain": [
       "[{'input_ids': [10272, 15, 679, 9, 7], 'labels': [15, 679, 9, 7, 5234]},\n",
       " {'input_ids': [5234, 745, 27920, 228, 9723],\n",
       "  'labels': [745, 27920, 228, 9723, 120]},\n",
       " {'input_ids': [120, 1622, 14738, 3291, 2832],\n",
       "  'labels': [1622, 14738, 3291, 2832, 13081]},\n",
       " {'input_ids': [13081, 64, 1199, 531, 1621],\n",
       "  'labels': [64, 1199, 531, 1621, 4954]},\n",
       " {'input_ids': [4954, 2020, 6112, 8341, 19],\n",
       "  'labels': [2020, 6112, 8341, 19, 16]},\n",
       " {'input_ids': [16, 5658, 58, 220, 3914], 'labels': [5658, 58, 220, 3914, 7]}]"
      ]
     },
     "execution_count": 6,
     "metadata": {},
     "output_type": "execute_result"
    }
   ],
   "source": [
    "sample = \"こんにちは。ここでは BlockDataset という Iterable-style datasets を実装してみました。\"\n",
    "sample_dataset = BlockDataset.from_texts(tokenizer=tokenizer, texts=[sample], block_size=5)\n",
    "[x for x in sample_dataset]"
   ]
  },
  {
   "cell_type": "markdown",
   "id": "activated-search",
   "metadata": {},
   "source": [
    "言語モデルを学習するので、BlockDataset はモデルへの入力 ID となる `input_ids` の他に、出力側に与える ID を一つずらして `labels` として辞書の形で出力します。\n",
    "出力された ID を `decode` してどのようになっているか確認してみます。"
   ]
  },
  {
   "cell_type": "code",
   "execution_count": 7,
   "id": "parallel-manhattan",
   "metadata": {},
   "outputs": [
    {
     "data": {
      "text/plain": [
       "[{'input_ids': 'こんにちは。', 'labels': 'にちは。ここでは'},\n",
       " {'input_ids': 'ここでは BlockData', 'labels': 'BlockDatas'},\n",
       " {'input_ids': 'set という Iter', 'labels': 'et という Iterable'},\n",
       " {'input_ids': 'able-style', 'labels': '-style d'},\n",
       " {'input_ids': 'datasets ', 'labels': 'atasets を'},\n",
       " {'input_ids': 'を実装してみました', 'labels': '実装してみました。'}]"
      ]
     },
     "execution_count": 7,
     "metadata": {},
     "output_type": "execute_result"
    }
   ],
   "source": [
    "[{key: tokenizer.decode(val) for key, val in x.items()} for x in sample_dataset]"
   ]
  },
  {
   "cell_type": "markdown",
   "id": "surprised-spotlight",
   "metadata": {},
   "source": [
    "この例では見やすいように `blocksize=5` としていますが、実際にはモデルが許容可能な文長を指定します。\n",
    "[`OpenAI GPT2` の場合には `n_ctx=1024` と指定されている](https://huggingface.co/transformers/model_doc/gpt2.html#transformers.GPT2Config)\n",
    "ため 1024 の文長を扱うことができます。ですので、1024に設定して学習に使うデータセットを準備します。\n",
    "\n",
    "Note: 予め言語モデルの学習に使うデータを `data/train.txt`, `data/valid.txt` として保存しておいてください。"
   ]
  },
  {
   "cell_type": "code",
   "execution_count": 8,
   "id": "strange-short",
   "metadata": {},
   "outputs": [],
   "source": [
    "train_dataset = BlockDataset.from_file(block_size=1024, tokenizer=tokenizer, filepath=\"data/train.txt\")\n",
    "valid_dataset = BlockDataset.from_file(block_size=1024, tokenizer=tokenizer, filepath=\"data/valid.txt\")"
   ]
  },
  {
   "cell_type": "markdown",
   "id": "documented-seventh",
   "metadata": {},
   "source": [
    "さて、ニューラルネットワークのパラメータ最適化を行う勾配降下法では、学習サンプルをランダムに並べておくことが重要です。\n",
    "Map-style datasets では、`DataLoader` を作成する際に `shuffle=True` と指定すればいいのですが、\n",
    "Iterable-style datasets の場合にはサンプルがどの程度あるかわからないため DataLoader でシャッフルはできません。\n",
    "（Iterable-style datasets で `DataLoader` の `shuffle=True` を指定すると例外が発生します。）\n",
    "\n",
    "その代わりに、PyTorch は `BufferedShuffleDataset` というデータセットを用意しており、先頭から `buffer_size` 分を\n",
    "シャッフルして順次データを返すという挙動を行うことができます。\n",
    "`train_dataset` に対してはこの `BufferedShuffleDataset` を適用してデータをシャッフルします。"
   ]
  },
  {
   "cell_type": "code",
   "execution_count": 9,
   "id": "surface-river",
   "metadata": {},
   "outputs": [],
   "source": [
    "shuffled_train_dataset = torch.utils.data.BufferedShuffleDataset(train_dataset, buffer_size=100)"
   ]
  },
  {
   "cell_type": "markdown",
   "id": "funded-meditation",
   "metadata": {},
   "source": [
    "さて、これで Dataset の準備は完了です。次は DataLoader を作成に進みましょう。"
   ]
  },
  {
   "cell_type": "markdown",
   "id": "conceptual-injury",
   "metadata": {},
   "source": [
    "## DataLoader の作成"
   ]
  },
  {
   "cell_type": "markdown",
   "id": "signal-render",
   "metadata": {},
   "source": [
    "DataLoader は、Dataset の値を受け取り、それをバッチに変形します。\n",
    "DataLoader はバッチへの変形を自動で行ってくれますが、今回の言語モデルの場合のように、自動の変換方法ではうまくいかない場合もあります。\n",
    "そのような場合には自身で `collate_fn` という関数を自分で実装し、DataLoader へ渡すことでバッチへの変形方法を指定できます。"
   ]
  },
  {
   "cell_type": "code",
   "execution_count": 10,
   "id": "arranged-viewer",
   "metadata": {},
   "outputs": [],
   "source": [
    "def collate_fn(item):\n",
    "    \"\"\"\n",
    "    Args:\n",
    "        item (List[dict[str, List[int]]]): BlockDataset のイテレータが返す辞書のリスト\n",
    "    Returns:\n",
    "        (dict[str, torch.Tensor]):\n",
    "    \"\"\"\n",
    "    keys = item[0].keys()\n",
    "    dic = {\n",
    "        key: torch.tensor([x[key] for x in item])\n",
    "        for key in keys\n",
    "    }\n",
    "    return dic"
   ]
  },
  {
   "cell_type": "markdown",
   "id": "overhead-television",
   "metadata": {},
   "source": [
    "colalte_fn には、BlockDataset が返すオブジェクトの `batch_size` (`DataLoader` のイニシャライザで指定します) のリストが渡されます。\n",
    "そのリストを適切な形に変形する処理をかき、その結果を返却します。\n",
    "今回は `input_ids` と `label` をバッチ化して PyTorch のテンソルの形で返します。\n",
    "\n",
    "さて、どうなるか小さなサンプルで確かめて見ましょう。"
   ]
  },
  {
   "cell_type": "code",
   "execution_count": 11,
   "id": "southeast-assist",
   "metadata": {},
   "outputs": [
    {
     "data": {
      "text/plain": [
       "[{'input_ids': tensor([[10272,    15,   679,     9,     7],\n",
       "          [ 5234,   745, 27920,   228,  9723]]),\n",
       "  'labels': tensor([[   15,   679,     9,     7,  5234],\n",
       "          [  745, 27920,   228,  9723,   120]])},\n",
       " {'input_ids': tensor([[  120,  1622, 14738,  3291,  2832],\n",
       "          [13081,    64,  1199,   531,  1621]]),\n",
       "  'labels': tensor([[ 1622, 14738,  3291,  2832, 13081],\n",
       "          [   64,  1199,   531,  1621,  4954]])},\n",
       " {'input_ids': tensor([[4954, 2020, 6112, 8341,   19],\n",
       "          [  16, 5658,   58,  220, 3914]]),\n",
       "  'labels': tensor([[2020, 6112, 8341,   19,   16],\n",
       "          [5658,   58,  220, 3914,    7]])}]"
      ]
     },
     "execution_count": 11,
     "metadata": {},
     "output_type": "execute_result"
    }
   ],
   "source": [
    "sample_dataloader = torch.utils.data.DataLoader(dataset=sample_dataset, batch_size=2, collate_fn=collate_fn)\n",
    "[x for x in sample_dataloader]"
   ]
  },
  {
   "cell_type": "markdown",
   "id": "alternative-sunday",
   "metadata": {},
   "source": [
    "辞書の値になっている PyTorch テンソルのサイズを見ることでよりはっきりとバッチ化されていることがわかります。"
   ]
  },
  {
   "cell_type": "code",
   "execution_count": 12,
   "id": "american-pakistan",
   "metadata": {},
   "outputs": [
    {
     "data": {
      "text/plain": [
       "[{'input_ids': torch.Size([2, 5]), 'labels': torch.Size([2, 5])},\n",
       " {'input_ids': torch.Size([2, 5]), 'labels': torch.Size([2, 5])},\n",
       " {'input_ids': torch.Size([2, 5]), 'labels': torch.Size([2, 5])}]"
      ]
     },
     "execution_count": 12,
     "metadata": {},
     "output_type": "execute_result"
    }
   ],
   "source": [
    "[{key: val.size() for key, val in x.items()} for x in sample_dataloader]"
   ]
  },
  {
   "cell_type": "markdown",
   "id": "narrow-nepal",
   "metadata": {},
   "source": [
    "基本的にはこれで完了なのですが、効率的なバッチ化のために `prefetch_factor` と `num_workers` を導入しましょう。\n",
    "学習時に時間がかかる部分はモデルでの計算時間 (e.g. forward, backward, パラメータ更新) のほかに、データロードにかかる時間があります。\n",
    "データのロードをモデルでの計算と直列に行うと効率が悪いため、データのロードはモデルでの計算とは別に裏で進めておくと効率よく学習が行えます。\n",
    "そのためのオプションが `prefetch_factor` と `num_workers` です。\n",
    "\n",
    "`prefetch_factor` でいくつのバッチを事前に作成しておくかを指定でき、 `num_workers` でそのための裏で動かしておくプロセス数を指定します。\n",
    "これらを合わせると、実際に学習にしようする DataLoader は次のように作成できます。\n",
    "\n",
    "**Note:** 公式ドキュメントでは [Single- and Multi-process Data Loading](https://pytorch.org/docs/stable/data.html#single-and-multi-process-data-loading) の箇所で説明されています。"
   ]
  },
  {
   "cell_type": "code",
   "execution_count": 13,
   "id": "outdoor-angel",
   "metadata": {},
   "outputs": [],
   "source": [
    "train_loader = torch.utils.data.DataLoader(\n",
    "    dataset=shuffled_train_dataset,\n",
    "    batch_size=2,\n",
    "    collate_fn=collate_fn,\n",
    "    prefetch_factor=10,\n",
    "    num_workers=1,\n",
    ")\n",
    "valid_loader = torch.utils.data.DataLoader(\n",
    "    dataset=valid_dataset,\n",
    "    batch_size=2,\n",
    "    collate_fn=collate_fn,\n",
    "    prefetch_factor=10,\n",
    "    num_workers=1,\n",
    ")"
   ]
  },
  {
   "cell_type": "code",
   "execution_count": 14,
   "id": "catholic-princeton",
   "metadata": {},
   "outputs": [
    {
     "data": {
      "text/plain": [
       "[{'input_ids': torch.Size([2, 1024]), 'labels': torch.Size([2, 1024])},\n",
       " {'input_ids': torch.Size([2, 1024]), 'labels': torch.Size([2, 1024])},\n",
       " {'input_ids': torch.Size([2, 1024]), 'labels': torch.Size([2, 1024])}]"
      ]
     },
     "execution_count": 14,
     "metadata": {},
     "output_type": "execute_result"
    }
   ],
   "source": [
    "import itertools\n",
    "[{key: val.size() for key, val in x.items()} for x in itertools.islice(train_loader, 3)]"
   ]
  },
  {
   "cell_type": "markdown",
   "id": "ranking-bloom",
   "metadata": {},
   "source": [
    "## モデルの準備\n",
    "\n",
    "Hugging Face transformers のモデルの初期化には、まず Config クラスでモデルのレイヤー数といった値を設定したのちに、モデルのクラスに渡してインスタンス化します。\n",
    "今回は、OpenAI GPT2 の Config クラス `transformers.GPT2` を設定し、その言語モデルである `transformers.GPT2LMHeadModel` をインスタンス化します。"
   ]
  },
  {
   "cell_type": "code",
   "execution_count": 15,
   "id": "promising-thousand",
   "metadata": {},
   "outputs": [],
   "source": [
    "config = transformers.GPT2Config(\n",
    "    vocab_size=len(tokenizer),\n",
    "    tokenizer_class=\"BertGenerationTokenizer\",\n",
    "    bos_token_id=tokenizer.bos_token_id,\n",
    "    pad_token_id=tokenizer.pad_token_id,\n",
    "    eos_token_id=tokenizer.eos_token_id,\n",
    "    sep_token_id=tokenizer.sep_token_id,\n",
    "    cls_token_id=tokenizer.cls_token_id,\n",
    "    unk_token_id=tokenizer.unk_token_id,\n",
    ")     "
   ]
  },
  {
   "cell_type": "code",
   "execution_count": 16,
   "id": "stuffed-protocol",
   "metadata": {},
   "outputs": [
    {
     "data": {
      "text/plain": [
       "GPT2Config {\n",
       "  \"activation_function\": \"gelu_new\",\n",
       "  \"attn_pdrop\": 0.1,\n",
       "  \"bos_token_id\": 2,\n",
       "  \"cls_token_id\": 4,\n",
       "  \"embd_pdrop\": 0.1,\n",
       "  \"eos_token_id\": 3,\n",
       "  \"gradient_checkpointing\": false,\n",
       "  \"initializer_range\": 0.02,\n",
       "  \"layer_norm_epsilon\": 1e-05,\n",
       "  \"model_type\": \"gpt2\",\n",
       "  \"n_ctx\": 1024,\n",
       "  \"n_embd\": 768,\n",
       "  \"n_head\": 12,\n",
       "  \"n_inner\": null,\n",
       "  \"n_layer\": 12,\n",
       "  \"n_positions\": 1024,\n",
       "  \"pad_token_id\": 0,\n",
       "  \"resid_pdrop\": 0.1,\n",
       "  \"sep_token_id\": 5,\n",
       "  \"summary_activation\": null,\n",
       "  \"summary_first_dropout\": 0.1,\n",
       "  \"summary_proj_to_labels\": true,\n",
       "  \"summary_type\": \"cls_index\",\n",
       "  \"summary_use_proj\": true,\n",
       "  \"tokenizer_class\": \"BertGenerationTokenizer\",\n",
       "  \"transformers_version\": \"4.4.2\",\n",
       "  \"unk_token_id\": 1,\n",
       "  \"use_cache\": true,\n",
       "  \"vocab_size\": 32000\n",
       "}"
      ]
     },
     "execution_count": 16,
     "metadata": {},
     "output_type": "execute_result"
    }
   ],
   "source": [
    "config"
   ]
  },
  {
   "cell_type": "code",
   "execution_count": 17,
   "id": "confidential-presentation",
   "metadata": {},
   "outputs": [],
   "source": [
    "model = transformers.GPT2LMHeadModel(config)"
   ]
  },
  {
   "cell_type": "markdown",
   "id": "fabulous-germany",
   "metadata": {},
   "source": [
    "モデルの準備ができたので、学習ループの実装にうつりましょう。"
   ]
  },
  {
   "cell_type": "markdown",
   "id": "metric-archive",
   "metadata": {},
   "source": [
    "## 学習ループ\n",
    "\n",
    "学習ループを実装するにあたり、まずは PyTorch でのモデルの学習の流れを一度まとめます。\n",
    "\n",
    "モデルの学習にあたり大きくは次のステップが必要になります。\n",
    "\n",
    "1. 損失の計算グラフの構築\n",
    "1. 勾配の計算\n",
    "1. 勾配に従ったパラメータのアップデート\n",
    "\n",
    "ニューラルネットワークでは勾配に基づいてモデルのパラメータを更新していきます。\n",
    "勾配を計算するには、現在のパラメータの値での微分を計算する必要があり、ニューラルネットワークでは損失の計算グラフを通して自動微分を行うことで求めます。\n",
    "したがって、まずは損失の計算グラフを求める必要があるわけです。\n",
    "\n",
    "計算グラフの構築と自動微分は、まさに PyTorch の **テンソル** の大きな目的であり、テンソルを使うことによって実現できます。\n",
    "簡単な例で見て見ましょう。"
   ]
  },
  {
   "cell_type": "code",
   "execution_count": 18,
   "id": "continuing-jason",
   "metadata": {},
   "outputs": [],
   "source": [
    "import torch\n",
    "\n",
    "x = torch.tensor(10.0, requires_grad=True)\n",
    "y = torch.tensor(5.0)\n",
    "z = x + 2 * y\n",
    "w = z ** 2"
   ]
  },
  {
   "cell_type": "code",
   "execution_count": 19,
   "id": "lesser-tampa",
   "metadata": {},
   "outputs": [
    {
     "data": {
      "text/plain": [
       "(tensor(10., requires_grad=True),\n",
       " tensor(5.),\n",
       " tensor(20., grad_fn=<AddBackward0>),\n",
       " tensor(400., grad_fn=<PowBackward0>))"
      ]
     },
     "execution_count": 19,
     "metadata": {},
     "output_type": "execute_result"
    }
   ],
   "source": [
    "x, y, z, w"
   ]
  },
  {
   "cell_type": "markdown",
   "id": "cloudy-butler",
   "metadata": {},
   "source": [
    "`x` のように `requires_grad` を設定したテンソルは、そのテンソルが計算に使われた計算グラフに対して `.backward()` メソッドを呼ぶことで自動微分を実行した際に、微分の結果が `.grad` に保存されます。\n",
    "（このように、 `requires_grad=True` と設定されたテンソルを今後 **パラメータ** とよぶことにします。）\n",
    "\n",
    "自動微分をする前の `.grad` の値を見てみましょう"
   ]
  },
  {
   "cell_type": "code",
   "execution_count": 20,
   "id": "noticed-empire",
   "metadata": {},
   "outputs": [
    {
     "data": {
      "text/plain": [
       "(None, None)"
      ]
     },
     "execution_count": 20,
     "metadata": {},
     "output_type": "execute_result"
    }
   ],
   "source": [
    "x.grad, y.grad"
   ]
  },
  {
   "cell_type": "markdown",
   "id": "aquatic-telephone",
   "metadata": {},
   "source": [
    "自動微分を行う前は、このように `.grad` には `None` が設定されています。\n",
    "それではテンソルの `.backward()` メソッドを呼び出して自動微分を行ってみましょう。"
   ]
  },
  {
   "cell_type": "code",
   "execution_count": 21,
   "id": "subjective-titanium",
   "metadata": {},
   "outputs": [],
   "source": [
    "w.backward()"
   ]
  },
  {
   "cell_type": "markdown",
   "id": "upset-singapore",
   "metadata": {},
   "source": [
    "微分した結果がテンソルに入っているか `.grad` にアクセスして確かめてみます。"
   ]
  },
  {
   "cell_type": "code",
   "execution_count": 22,
   "id": "naked-wealth",
   "metadata": {},
   "outputs": [
    {
     "data": {
      "text/plain": [
       "(tensor(40.), None)"
      ]
     },
     "execution_count": 22,
     "metadata": {},
     "output_type": "execute_result"
    }
   ],
   "source": [
    "x.grad, y.grad"
   ]
  },
  {
   "cell_type": "markdown",
   "id": "trying-commander",
   "metadata": {},
   "source": [
    "確かに `requires_grad=True` を設定したテンソルにのみ微分の値が計算されて保存されているのがわかります。\n",
    "\n",
    "さて、計算グラフの構築と自動微分による勾配の計算は PyTorch のテンソルを使うことで行うということがわかりました。\n",
    "しかし、実際の PyTorch でのモデルは `nn.Module` というモジュールのサブクラスとして実装を行います。\n",
    "それではモジュールとテンソルの関係はどうなっているでしょうか？\n",
    "\n",
    "実はモジュールは、自身が最適化が必要なパラメータを内部で保持しています。\n",
    "パラメータには、モジュールの `.parameters` アトリビュートを通してアクセスできます。"
   ]
  },
  {
   "cell_type": "code",
   "execution_count": 23,
   "id": "isolated-exclusion",
   "metadata": {},
   "outputs": [
    {
     "data": {
      "text/plain": [
       "Parameter containing:\n",
       "tensor([[ 0.0067,  0.0060, -0.0201,  ..., -0.0153, -0.0092,  0.0038],\n",
       "        [-0.0231,  0.0080, -0.0129,  ..., -0.0116, -0.0267,  0.0094],\n",
       "        [ 0.0095,  0.0595, -0.0047,  ..., -0.0033,  0.0188, -0.0065],\n",
       "        ...,\n",
       "        [-0.0005,  0.0166, -0.0038,  ..., -0.0315, -0.0261,  0.0179],\n",
       "        [ 0.0221,  0.0020, -0.0198,  ..., -0.0117,  0.0096, -0.0135],\n",
       "        [ 0.0208,  0.0151,  0.0328,  ...,  0.0188, -0.0229,  0.0227]],\n",
       "       requires_grad=True)"
      ]
     },
     "execution_count": 23,
     "metadata": {},
     "output_type": "execute_result"
    }
   ],
   "source": [
    "one_param = next(model.parameters())\n",
    "one_param"
   ]
  },
  {
   "cell_type": "markdown",
   "id": "atomic-twelve",
   "metadata": {},
   "source": [
    "結果を見ると分かる通り、テンソルに `requires_grad=True` が設定されていることがわかります。\n",
    "このように、モジュールは一見すると何を行っているかわかりにくいかもしれませんが、モジュールの大きな役割の一つとしてパラメータを管理しているわけです。"
   ]
  },
  {
   "cell_type": "markdown",
   "id": "cardiovascular-method",
   "metadata": {},
   "source": [
    "ここまでで計算グラフの構築と勾配の計算の方法がわかりました。\n",
    "最後に勾配に従ったパラメータのアップデートについて見ていきましょう。\n",
    "\n",
    "先ほどの `x` を SGD を使って更新することを考えると、\n",
    "\n",
    "```md\n",
    "lr = 0.001\n",
    "x = x - lr * x.grad\n",
    "```\n",
    "\n",
    "のように、パラメータをその勾配に従って更新を行えばよいことがわかります。\n",
    "\n",
    "より一般に、パラメータをアップデートする機構（これを **オプティマイザ** といいます）には、更新対象のパラメータ、およびその勾配をわたすことでパラメータのアップデートが行えます。\n",
    "これらの情報は、今までの説明から分かる通り PyTorch のテンソルがその役目を担っています。パラメータは `requires_grad=True` が設定されたテンソル、そしてその勾配は `.grad` からアクセスできるのでした。\n",
    "したがって、オプティマイザには更新対象のテンソルを渡しておけばよいわけです\n",
    "\n",
    "PyTorch では、オプティマイザは [`torch.optim` 以下で定義](https://pytorch.org/docs/stable/optim.html) されており、そのイニシャライザには今確認したように、更新対象となるテンソルを渡して初期化を行います。"
   ]
  },
  {
   "cell_type": "code",
   "execution_count": 24,
   "id": "driving-teens",
   "metadata": {},
   "outputs": [],
   "source": [
    "x_optim = torch.optim.SGD([x], lr=0.001)"
   ]
  },
  {
   "cell_type": "markdown",
   "id": "heavy-complex",
   "metadata": {},
   "source": [
    "生成したオプティマイザの `step()` メソッドを呼ぶことで、パラメータに設定された勾配に従って、パラメータが更新されます。\n",
    "\n",
    "まず更新前の `x` とその勾配を確認しておきましょう。"
   ]
  },
  {
   "cell_type": "code",
   "execution_count": 25,
   "id": "potential-logging",
   "metadata": {},
   "outputs": [
    {
     "data": {
      "text/plain": [
       "(tensor(10., requires_grad=True), tensor(40.))"
      ]
     },
     "execution_count": 25,
     "metadata": {},
     "output_type": "execute_result"
    }
   ],
   "source": [
    "x, x.grad"
   ]
  },
  {
   "cell_type": "markdown",
   "id": "serious-merchandise",
   "metadata": {},
   "source": [
    "`step()` メソッドでパラメータを更新してみます。"
   ]
  },
  {
   "cell_type": "code",
   "execution_count": 26,
   "id": "impossible-pepper",
   "metadata": {},
   "outputs": [],
   "source": [
    "x_optim.step()"
   ]
  },
  {
   "cell_type": "markdown",
   "id": "designed-brand",
   "metadata": {},
   "source": [
    "予想では、 `10 - 40 * 0.001 = 9.96` となるはずです。実際に表示して確認してみます。"
   ]
  },
  {
   "cell_type": "code",
   "execution_count": 27,
   "id": "published-senator",
   "metadata": {},
   "outputs": [
    {
     "data": {
      "text/plain": [
       "tensor(9.9600, requires_grad=True)"
      ]
     },
     "execution_count": 27,
     "metadata": {},
     "output_type": "execute_result"
    }
   ],
   "source": [
    "x"
   ]
  },
  {
   "cell_type": "markdown",
   "id": "hazardous-three",
   "metadata": {},
   "source": [
    "予想通りの値になっていますね。\n",
    "\n",
    "ではモジュールに対してオプティマイザを作成してみましょう。モジュールのパラメータは `parameters()` で取得できるでした。\n",
    "したがって、オプティマイザのイニシャライザにその値を直接渡せばよいことになります。\n",
    "また、オプティマイザは SGD の代わりに Adam を使ってみることにします。"
   ]
  },
  {
   "cell_type": "code",
   "execution_count": 28,
   "id": "compressed-heath",
   "metadata": {},
   "outputs": [],
   "source": [
    "optimizer = torch.optim.Adam(model.parameters(), lr=1.0e-4)"
   ]
  },
  {
   "cell_type": "markdown",
   "id": "elect-compromise",
   "metadata": {},
   "source": [
    "**Note:** オプティマイザは、イニシャライザに渡されたパラメータの更新のみを行います。したがって、更新を行いたくないパラメータがある場合には、オプティマイザのイニシャライザに渡さなければよいことになります。\n",
    "モジュールの `.named_parameters()` メソッドでモジュール名つきのパラメータを取得できるため、そのモジュール名でフィルタをかける方法が有効です。\n",
    "\n",
    "```py\n",
    "torch.optim.Adam(\n",
    "    [param for name, param in model.named_parameters()\n",
    "     if name in [\"module\", \"names\", \"to\", \"be\", \"updated\"]\n",
    "     ],\n",
    "    lr=1.0e-4\n",
    ")\n",
    "```"
   ]
  },
  {
   "cell_type": "markdown",
   "id": "communist-seven",
   "metadata": {},
   "source": [
    "必要な準備は整いましたので、ついに学習ループの実装に移ります。\n",
    "重要な点はすでに説明済みなので、コメントとともに実装をしてみます。"
   ]
  },
  {
   "cell_type": "code",
   "execution_count": 29,
   "id": "eastern-fruit",
   "metadata": {},
   "outputs": [],
   "source": [
    "def train(\n",
    "    model,\n",
    "    optimizer,\n",
    "    train_dataloader,\n",
    "    valid_dataloader,\n",
    "    n_epochs,\n",
    "    loss_fn,\n",
    "    device,\n",
    "):\n",
    "    for epoch in range(1, n_epochs+1):\n",
    "        # [*1] 学習モード\n",
    "        model.train()\n",
    "\n",
    "        train_loss = 0\n",
    "\n",
    "        for train_batch_idx, item in enumerate(train_dataloader, start=1):\n",
    "            # ロスの計算グラフを構築する\n",
    "            # forward 関数は、検証時にも利用するため別の関数で後で定義する\n",
    "            loss = forward(model, item, loss_fn, device)\n",
    "            # [*2] 勾配の初期化\n",
    "            optimizer.zero_grad()\n",
    "            # 勾配を計算し、その結果をテンソルの.gradに保存する\n",
    "            loss.backward()\n",
    "            # 勾配に従ってオプティマイザに登録したパラメータ (required_grad=Trueのテンソル) を更新\n",
    "            optimizer.step()\n",
    "            \n",
    "            # エポックのロス計算は、勾配計算を行わないため計算グラフを構築する必要はない。\n",
    "            # 計算グラフを構築しないために item を使ってテンソルの中身を取り出して計算している。\n",
    "            # item を使わないと計算グラフをバッチのループ毎に作り続けそれを train_loss にキープし続けるため、\n",
    "            # メモリを大量に消費してしまう\n",
    "            train_loss += loss.item()\n",
    "            \n",
    "            # ログの出力\n",
    "            if train_batch_idx % 100 == 0:\n",
    "                batch_log = dict(epoch=epoch, batch=train_batch_idx, train_loss=train_loss/train_batch_idx)\n",
    "                print(batch_log)\n",
    "\n",
    "            \n",
    "        # [*1] 検証モード\n",
    "        model.eval()\n",
    "        # [*3] 推論モードでは勾配計算しないので計算グラフを作成する必要がない。\n",
    "        #      `torch.no_grad()` コンテキスト内のテンソルの計算では計算グラフは構築されない。\n",
    "        with torch.no_grad():\n",
    "            val_loss = 0\n",
    "            for val_batch_idx, item in enumerate(valid_dataloader, start=1):\n",
    "                loss = forward(model, item, loss_fn, device)\n",
    "                val_loss += loss.item()\n",
    "                \n",
    "                # 次の行の assert で計算グラフが構築されていないことが確認できる。\n",
    "                # assert loss.grad is None\n",
    "                \n",
    "        epoch_log = dict(\n",
    "            epoch=epoch,\n",
    "            train_loss=train_loss/train_batch_idx,\n",
    "            valid_loss=val_loss/val_batch_idx,\n",
    "        )\n",
    "        print(epoch_log)"
   ]
  },
  {
   "cell_type": "code",
   "execution_count": 30,
   "id": "boxed-capture",
   "metadata": {},
   "outputs": [],
   "source": [
    "def forward(model, item, loss_fn, device):\n",
    "    \"\"\"1バッチ毎のロスの計算を行う。\n",
    "    \n",
    "    item は DataLoader が返す辞書オブジェクトで `input_ids` と `labels` キーからなる。\n",
    "    各々さずは (batch_size, input_len) となる。\n",
    "    \"\"\"\n",
    "    # テンソルの to はインプレースではないので代入しないといけないということであっている？\n",
    "    src, tgt = item[\"input_ids\"], item[\"labels\"]\n",
    "    \n",
    "    # [*4] テンソルを対象デバイスに移す。\n",
    "    # テンソルの `to` はモジュールの `to` と異なりインプレースでデバイスに移らず、\n",
    "    # 移動した先の新しいテンソルを返すので、必ず代入を行うこと\n",
    "    src = src.to(device=device)\n",
    "    tgt = tgt.to(device=device)\n",
    "\n",
    "    # ロスを計算する\n",
    "    output = model(input_ids=src)\n",
    "    logits = output.logits  # shape: (batch_size, input_len, vocab_size)\n",
    "    loss = loss_fn(\n",
    "        input=logits.view(-1, logits.shape[-1]),\n",
    "        target=tgt.view(-1)\n",
    "    )\n",
    "    return loss"
   ]
  },
  {
   "cell_type": "markdown",
   "id": "aggressive-teens",
   "metadata": {},
   "source": [
    "いくつか [*N] の形式でコメントを付けた箇所について説明を加えます。\n",
    "\n",
    "**[*1]** PyTorch のモジュールには学習モードと検証モードがあり、それぞれ `.train()`, `.eval()` メソッドで切り替えることができます。これらは、例えば Dropout のような学習時と検証時の挙動を変更する必要があるモジュールに対して、設定を変更することを意味しています。\n",
    "基本的には、パラメータ更新を加える学習時には `.train()` で学習モードに設定し、学習後の評価時には `.eval()` で評価モードに設定します。\n",
    "\n",
    "**[*2]** 勾配は初期化しないとずっと値が加算されつづけられます。これは、例えば一つのパラメータに対して二つの計算グラフが存在している状況で便利です。例えば、 `x` の例でもう一つ `v` という計算グラフが `x` から計算されているとします。"
   ]
  },
  {
   "cell_type": "code",
   "execution_count": 31,
   "id": "appropriate-water",
   "metadata": {},
   "outputs": [],
   "source": [
    "v = 2 * x"
   ]
  },
  {
   "cell_type": "markdown",
   "id": "competitive-ground",
   "metadata": {},
   "source": [
    "`x` の勾配は、先ほど `w` から微分を計算したため現在はこうなっています。"
   ]
  },
  {
   "cell_type": "code",
   "execution_count": 32,
   "id": "disabled-marketplace",
   "metadata": {},
   "outputs": [
    {
     "data": {
      "text/plain": [
       "tensor(40.)"
      ]
     },
     "execution_count": 32,
     "metadata": {},
     "output_type": "execute_result"
    }
   ],
   "source": [
    "x.grad"
   ]
  },
  {
   "cell_type": "markdown",
   "id": "future-profit",
   "metadata": {},
   "source": [
    "ここでもう一度 `.backward()` を呼び出して勾配を計算するとどうなるでしょうか。"
   ]
  },
  {
   "cell_type": "code",
   "execution_count": 33,
   "id": "assured-prevention",
   "metadata": {},
   "outputs": [],
   "source": [
    "v.backward()"
   ]
  },
  {
   "cell_type": "code",
   "execution_count": 34,
   "id": "coordinated-justice",
   "metadata": {},
   "outputs": [
    {
     "data": {
      "text/plain": [
       "tensor(42.)"
      ]
     },
     "execution_count": 34,
     "metadata": {},
     "output_type": "execute_result"
    }
   ],
   "source": [
    "x.grad"
   ]
  },
  {
   "cell_type": "markdown",
   "id": "conceptual-prior",
   "metadata": {},
   "source": [
    "以前の勾配 `40` に、新しい勾配 `2` が加算された結果になっていることがわかります。\n",
    "このように複数のヘッドに対して勾配を計算する必要がある状況（つまり、複数の損失関数がある状況）では、加算機能は便利です。\n",
    "\n",
    "一方で、バッチ毎に勾配を計算する場合はパラメータの勾配を初期化する必要があります。\n",
    "それには、オプティマイザの `.zero_grad()` メソッドで実行できます。\n",
    "`.zero_grad()` メソッドは、呼び出されるとそのオプティマイザに設定されているパラメータの勾配を `0` に初期化します。\n",
    "バッチ毎の勾配計算時にはここでの学習ループの実装のように、\n",
    "ロス計算グラフに対して `.backward()` を呼び出す直前に `.zero_grad()` を呼び出すと、\n",
    "呼び出し忘れもなく、よいと考えられます。"
   ]
  },
  {
   "cell_type": "markdown",
   "id": "paperback-disclosure",
   "metadata": {},
   "source": [
    "**[*3]** `requires_grad=True` が設定されたテンソルから構築した計算グラフは自動微分が可能で便利なのですが、勾配計算が不要な場合にはオーバーヘッドとなります。\n",
    "そこで、勾配計算が不要な際には `torch.no_grad()` コンテキスト内でテンソルの計算を行うことで、計算グラフが構築されなくなりオーバーヘッドが解消されます。\n",
    "\n",
    "実際に `x` に対して行って見ましょう。\n",
    "通常通り計算すると `grad_fn` がついていることから計算グラフが構築されることがわかります。"
   ]
  },
  {
   "cell_type": "code",
   "execution_count": 35,
   "id": "constitutional-farming",
   "metadata": {},
   "outputs": [
    {
     "data": {
      "text/plain": [
       "tensor(19.9200, grad_fn=<AddBackward0>)"
      ]
     },
     "execution_count": 35,
     "metadata": {},
     "output_type": "execute_result"
    }
   ],
   "source": [
    "x + x"
   ]
  },
  {
   "cell_type": "markdown",
   "id": "rocky-interpretation",
   "metadata": {},
   "source": [
    "一方で、`torch.no_grad()` コンテキスト内で起算すると `grad_fn` がついていないことから計算グラフが構築されていないことがわかります。"
   ]
  },
  {
   "cell_type": "code",
   "execution_count": 36,
   "id": "widespread-whole",
   "metadata": {},
   "outputs": [
    {
     "name": "stdout",
     "output_type": "stream",
     "text": [
      "tensor(19.9200)\n"
     ]
    }
   ],
   "source": [
    "with torch.no_grad():\n",
    "    print(x + x)"
   ]
  },
  {
   "cell_type": "markdown",
   "id": "deadly-albany",
   "metadata": {},
   "source": [
    "**[*4]** ニューラルネットワークの学習に GPU は欠かせません。GPU で学習する際には、PyTorch のテンソルも GPU に移動させる必要があります。\n",
    "学習時には、すでに見た通り、モジュールに登録されているテンソル、および DataLoader がイテレーションし、モジュールでフォワードするテンソルの二つが大きくあり、各々を GPU のメモリ上で扱う必要があります。\n",
    "\n",
    "テンソルおよびモジュールの `.to()` メソッドは、引数に指定したデバイスにテンソルを移動させます。\n",
    "デバイスは文字列で指定でき、次のコードで GPU が利用できるときには GPU を、そうでない場合には CPU をデバイスとして設定します。"
   ]
  },
  {
   "cell_type": "code",
   "execution_count": 37,
   "id": "constitutional-medicare",
   "metadata": {},
   "outputs": [],
   "source": [
    "device = torch.device(\"cuda\" if torch.cuda.is_available() else \"cpu\")"
   ]
  },
  {
   "cell_type": "code",
   "execution_count": 38,
   "id": "gothic-fever",
   "metadata": {},
   "outputs": [
    {
     "data": {
      "text/plain": [
       "device(type='cuda')"
      ]
     },
     "execution_count": 38,
     "metadata": {},
     "output_type": "execute_result"
    }
   ],
   "source": [
    "device"
   ]
  },
  {
   "cell_type": "markdown",
   "id": "persistent-election",
   "metadata": {},
   "source": [
    "今回は GPU が利用可能な環境なので `device` には `cuda` が設定されています。\n",
    "\n",
    "あとはこの `device` を使ってモジュールおよびテンソルを GPU 上に移動すれば良いことになります。\n",
    "まずはモジュールを GPU に移動させてみます。モジュールの `.to()` メソッドで引数に `device` を指定するだけです。\n",
    "モジュールの `.to()` メソッドはインプレースなので、結果を再度変数に代入する必要はないことに注意してください。"
   ]
  },
  {
   "cell_type": "code",
   "execution_count": null,
   "id": "ethical-velvet",
   "metadata": {},
   "outputs": [],
   "source": [
    "model.to(device=device)"
   ]
  },
  {
   "cell_type": "markdown",
   "id": "instrumental-colorado",
   "metadata": {},
   "source": [
    "次に DataLoader がイテレーションするテンソルを GPU に移動してみます。\n",
    "モジュールの `.to()` メソッドと異なり、テンソルの `.to()` メソッドはインプレースで移動せずに、GPU のメモリ上にコピーした\n",
    "新しいテンソルのインスタンスを返します。\n",
    "従って [*4] のように結果を変数に代入する必要があることに注意してください。\n",
    "\n",
    "```md\n",
    "src = src.to(device=device)\n",
    "tgt = tgt.to(device=device)\n",
    "```"
   ]
  },
  {
   "cell_type": "markdown",
   "id": "dfa0cbf3",
   "metadata": {},
   "source": [
    "<hr />"
   ]
  },
  {
   "cell_type": "markdown",
   "id": "tight-relief",
   "metadata": {},
   "source": [
    "さて、ここまででコメントの説明は終わりです。\n",
    "\n",
    "最後にロス関数を定義して学習ループを実行してみましょう。"
   ]
  },
  {
   "cell_type": "code",
   "execution_count": 40,
   "id": "accomplished-smart",
   "metadata": {},
   "outputs": [],
   "source": [
    "loss_fn = torch.nn.CrossEntropyLoss(ignore_index=tokenizer.pad_token_id)"
   ]
  },
  {
   "cell_type": "code",
   "execution_count": null,
   "id": "neither-learning",
   "metadata": {},
   "outputs": [],
   "source": [
    "train(\n",
    "    model=model,\n",
    "    optimizer=optimizer,\n",
    "    train_dataloader=train_loader,\n",
    "    valid_dataloader=valid_loader,\n",
    "    n_epochs=2,\n",
    "    loss_fn=loss_fn,\n",
    "    device=device,\n",
    ")"
   ]
  },
  {
   "cell_type": "markdown",
   "id": "chief-guidance",
   "metadata": {},
   "source": [
    "これで学習ループの実装は完了です。"
   ]
  },
  {
   "cell_type": "markdown",
   "id": "1cafa493",
   "metadata": {},
   "source": [
    "## 次のステップ\n",
    "\n",
    "次のステップとして学習ループをよりよくするアイディアは、例えば次のようなものがあります。\n",
    "\n",
    "* [Tensorboard による学習の可視化](https://pytorch.org/docs/stable/tensorboard.html)\n",
    "* モデルの保存と復元（学習途中からの再開）\n",
    "* [Learning rate のスケジュール](https://pytorch.org/docs/stable/optim.html#how-to-adjust-learning-rate)\n",
    "* [Automatic mixed precision](https://pytorch.org/docs/stable/notes/amp_examples.html)\n",
    "* Early stopping\n",
    "\n",
    "各々実装してももちろんよいのですが、実験毎に実装し直すのも大変です。\n",
    "そこで、このようなオプションを提供する [PyTorch Lightning](https://www.pytorchlightning.ai/) という\n",
    "素晴らしいパッケージがありますので、利用を検討してもよいでしょう。"
   ]
  }
 ],
 "metadata": {
  "kernelspec": {
   "display_name": "Python 3",
   "language": "python",
   "name": "python3"
  },
  "language_info": {
   "codemirror_mode": {
    "name": "ipython",
    "version": 3
   },
   "file_extension": ".py",
   "mimetype": "text/x-python",
   "name": "python",
   "nbconvert_exporter": "python",
   "pygments_lexer": "ipython3",
   "version": "3.6.9"
  }
 },
 "nbformat": 4,
 "nbformat_minor": 5
}
