{
 "cells": [
  {
   "cell_type": "markdown",
   "id": "declared-techno",
   "metadata": {},
   "source": [
    "---\n",
    "created_on: 2021/10/02\n",
    "updated_on: 2021/10/02\n",
    "---"
   ]
  },
  {
   "cell_type": "markdown",
   "id": "sweet-department",
   "metadata": {},
   "source": [
    "# 会話学習・応答生成フレームワーク convmodel を作成しました\n",
    "\n",
    "カラフルスコップ研究室に出向で来たぽじぶーちゃんの初めの仕事は、研究室の実験で皆が使っている会話モデルを使いやすくするためにフレームワーク化することでした。\n",
    "\n",
    "開発も一段落しましたので、今回はぽじぶーちゃんから作成したフレームワーク convmodel のチュートリアルを行ってもらおうと思います。\n",
    "\n",
    "![20211002-01](20211002-01.jpg)"
   ]
  },
  {
   "cell_type": "markdown",
   "id": "derived-measurement",
   "metadata": {},
   "source": [
    "## 概要\n",
    "\n",
    "今回は生成アプローチの会話モデルのフレームワーク convmodel を作成しました。\n",
    "\n",
    "ここでは、フレームワークの詳細に移る前に会話システムの概要を話したいと思います。\n",
    "\n",
    "一般的な会話システムでよくある手法は、事前に入力発話に対する応答を用意しておく方法です。\n",
    "この手法のメリットの一つは、作成者が設計した会話フロー通りに動くことを保証でき、作成した応答以外返さないようにできる点です。\n",
    "このメリットは非常に大きく、特に企業では意図しない応答をしてはならないケースがほとんどなため、企業が提供するチャットボットでは重宝します。\n",
    "\n",
    "**ノート:** ぽじぶーちゃんは企業から出向してきているので企業事情に明るいです。\n",
    "\n",
    "一方で、会話の流れというのは実に様々であるため、あらかじめどのような発話がくるかを予測して応答を準備しておくというのは難しいものです。\n",
    "\n",
    "これを克服するために、応答文をその場で生成するアプローチがあります。\n",
    "特に近年のTransformerを使ったアプローチでは精度よく文章生成が可能になってきていることもあり、この生成アプローチを採用するシステムもだんだんと出てきています。\n",
    "ただし、生成アプローチは意図していない回答を返してしまう可能性もあるため、企業では依然として採用を見送るのが一般的なようです。\n",
    "\n",
    "convmodelは、生成アプローチを採用した会話モデルを提供しています。\n",
    "具体的には、GPT-2 といった [transformers](https://github.com/huggingface/transformers) が提供している\n",
    "[デコーダモデル](https://huggingface.co/transformers/model_summary.html#decoders-or-autoregressive-models)をファインチューニングすることで会話モデルを学習します。\n",
    "convmodelはマルチターンの会話に対応しており、学習・応答生成のための便利なインターフェースを提供しています。\n",
    "\n",
    "それでは以下で convmodel について見ていきましょう。"
   ]
  },
  {
   "cell_type": "markdown",
   "id": "ed60b0e7",
   "metadata": {},
   "source": [
    "## インストール\n",
    "\n",
    "まずはconvmodelをインストールしておきたいと思います。\n",
    "インストールには二つのステップが必要です。\n",
    "\n",
    "一つ目のステップでは、PyTorchをインストールします。\n",
    "[PyTorch公式ドキュメント](https://pytorch.org/get-started/locally/)\n",
    "に従ってご自身の環境に合わせて PyTorch をインストールします。\n",
    "\n",
    "Colorful Scoop の環境は Linux, CUDA 11.1 なので以下の方法でインストールを行いました。\n",
    "\n",
    "```sh\n",
    "$ pip install torch==1.8.1+cu111 -f https://download.pytorch.org/whl/torch_stable.html\n",
    "```\n",
    "\n",
    "PyTorchがインストールできたら、convmodelをインストールします。\n",
    "今回は最新のバージョンの 0.3.0 をインストールします。\n",
    "\n",
    "```sh\n",
    "$ pip install convmodel==0.3.0\n",
    "```\n",
    "\n",
    "Dockerを用いた環境構築方法を[ドキュメント](https://colorfulscoop.github.io/convmodel-docs/install/)に記載してあるので、確認してみてください。"
   ]
  },
  {
   "cell_type": "markdown",
   "id": "advanced-england",
   "metadata": {},
   "source": [
    "## モデルのアーキテクチャ\n",
    "\n",
    "簡単に convmodel のアーキテクチャを見ておきましょう。\n",
    "convmodelでは[デコーダモデル](https://huggingface.co/transformers/model_summary.html#decoders-or-autoregressive-models)を会話モデルに採用しており、会話中の発話を `sep_token` を使って区切ることでマルチターンの会話の学習が可能になっています。\n",
    "\n",
    "会話のトークン化と `sep_token` による区切りの処理 `convmodel.ConversationTokenizer` が担ってくれています。\n",
    "実際に動かして確認してみましょう。\n",
    "\n",
    "まずは学習済みモデルからトークナイザをロードします。\n",
    "デコーダモデルであればどの学習済みモデルからで問題ないですが、今回は Colorful Scoop が提供している\n",
    "日本語Wikipediaで学習したGPT-2モデルの\n",
    "[colorfulscoop/gpt2-small-ja](https://huggingface.co/colorfulscoop/gpt2-small-ja)\n",
    "を使いたいと思います。"
   ]
  },
  {
   "cell_type": "code",
   "execution_count": 1,
   "id": "proof-savage",
   "metadata": {},
   "outputs": [],
   "source": [
    "from convmodel import ConversationTokenizer\n",
    "tokenizer = ConversationTokenizer.from_pretrained(\"colorfulscoop/gpt2-small-ja\")"
   ]
  },
  {
   "cell_type": "markdown",
   "id": "480b5377",
   "metadata": {},
   "source": [
    "トークナイザは発話のリストとして会話を引数に受け取ると、その中の発話をトークナイズし、`sep_token` で連結します。"
   ]
  },
  {
   "cell_type": "code",
   "execution_count": 2,
   "id": "72504f02",
   "metadata": {},
   "outputs": [
    {
     "data": {
      "text/plain": [
       "('<sep>', 5)"
      ]
     },
     "execution_count": 2,
     "metadata": {},
     "output_type": "execute_result"
    }
   ],
   "source": [
    "tokenizer.sep_token, tokenizer.sep_token_id"
   ]
  },
  {
   "cell_type": "code",
   "execution_count": 3,
   "id": "a526c2ad",
   "metadata": {},
   "outputs": [
    {
     "data": {
      "text/plain": [
       "{'input_ids': [5, 23450, 5, 23450, 7, 14784, 9, 3300, 5, 2736, 2191, 5],\n",
       " 'token_type_ids': [0, 0, 1, 1, 1, 1, 1, 1, 0, 0, 0, 1],\n",
       " 'attention_mask': [1, 1, 1, 1, 1, 1, 1, 1, 1, 1, 1, 1]}"
      ]
     },
     "execution_count": 3,
     "metadata": {},
     "output_type": "execute_result"
    }
   ],
   "source": [
    "tokenizer([\"おはよう\", \"おはよう。調子は？\", \"いいです\"])"
   ]
  },
  {
   "cell_type": "markdown",
   "id": "aab9aa48",
   "metadata": {},
   "source": [
    "`input_ids` に、各発話をトークン化した結果のidが入っています。\n",
    "表にまとめると次のようになります。\n",
    "\n",
    "| position | 0 | 1 | 2 | 3 | 4 | 5 | 6 | 7 | 8 | 9 | 10 | 11 |\n",
    "| --- | --- | --- | --- | --- | --- | --- | --- | --- | --- | --- | --- | --- |\n",
    "| word | <sep\\> | おはよう | <sep\\> | おはよう | 。 | 調子 | は | ？ | <sep\\> | いい | です | <sep\\> |\n",
    "| input_ids | 5 | 23450 | 5 | 23450 | 7 | 14784 | 9 | 3300 | 5 | 2736 | 2191 | 5 |\n",
    "| token_type_ids | 0 | 0 | 1 | 1 | 1 | 1 | 1 | 1 | 0 | 0 | 0 | 1 |\n",
    "| attention_mask | 1 | 1 | 1 | 1 | 1 | 1 | 1 | 1 | 1 | 1 | 1 | 1 |"
   ]
  },
  {
   "cell_type": "markdown",
   "id": "d10bec2f",
   "metadata": {},
   "source": [
    "結果を見ると `input_ids` の他に `token_type_ids` というのがあることがわかります。\n",
    "`token_type_ids` は、各発話の話者がわかるようにidをふっています。初めに話し始める話者を `0`, それに応答する話者を `1` として順にidを振っていきます。\n",
    "`token_type_ids`の説明は[transformersドキュメント](https://huggingface.co/transformers/glossary.html#token-type-ids)にもあるので参考にしてください。\n",
    "\n",
    "`attention_mask` は、アテンションを当てる位置を指定するために用います。全てのトークンにアテンションを当てるため全て `1` を設定しています。"
   ]
  },
  {
   "cell_type": "markdown",
   "id": "870e0cd0",
   "metadata": {},
   "source": [
    "convmodel はこのトークナイザの結果をデコーダモデルに入力して、次の単語を当てるように学習を行います。\n",
    "\n",
    "ここではトークナイザの説明をしましたが、実際にconvmodelを使って学習・応答生成を行う際には\n",
    "トークナイズするコードを自分で書く必要はありません。\n",
    "詳しくは次の「モデル学習」でみていきましょう。"
   ]
  },
  {
   "cell_type": "markdown",
   "id": "15814b34",
   "metadata": {},
   "source": [
    "## モデル学習\n",
    "\n",
    "モデル学習には大きく三つのステップが必要になります。\n",
    "\n",
    "1. 学習データの準備\n",
    "2. モデルの初期化\n",
    "3. 学習の実行\n",
    "\n",
    "順番に見ていきましょう。\n",
    "\n",
    "### 1. 学習データの準備\n",
    "\n",
    "convmodelでは学習データは、会話を `ConversaitonExample` でラップして、リストなどのイテレータとして用意します。\n",
    "具体的に小さな例を見てみましょう。"
   ]
  },
  {
   "cell_type": "code",
   "execution_count": 4,
   "id": "196c3859",
   "metadata": {},
   "outputs": [],
   "source": [
    "from convmodel import ConversationExample\n",
    "\n",
    "data_iterator = [\n",
    "    ConversationExample(conversation=[\"おはよう\", \"おはよう。調子は？\", \"いいです\"]),\n",
    "    ConversationExample(conversation=[\"こんにちは\", \"こんにちは、お昼食べた？\", \"もう食べました\"]),\n",
    "]"
   ]
  },
  {
   "cell_type": "markdown",
   "id": "4ed47074",
   "metadata": {},
   "source": [
    "このような形で `ConversationExample` オブジェクトで各会話をラップしてイテレータとして用意します。\n",
    "\n",
    "今回のような小さなデータではリストとして用意すればいいのですが、何千・何億といったデータサイズになってくるとメモリにはのらない状況になります。\n",
    "その際には、会話データはファイルとして用意し、一行ずつ読み込んでデータを提要するような実装をすることになります。\n",
    "ここではこの実装を行ってみましょう。\n",
    "\n",
    "データは次のような各行がひとつの会話からなる [JSON Lines](https://jsonlines.org/) 形式で用意するとします。\n",
    "\n",
    "```json\n",
    "[\"おはよう\", \"おはよう。調子は？\", \"いいです\"]\n",
    "[\"こんにちは\", \"こんにちは、お昼食べた？\", \"もう食べました\"]\n",
    "```\n",
    "\n",
    "このデータを `data.jsonl` として保存しておきます。\n",
    "\n",
    "このファイルを一行ずつ読み込み、`ConversationExample`オブジェクトでラップして返すイテレータクラスが次になります。"
   ]
  },
  {
   "cell_type": "code",
   "execution_count": 5,
   "id": "e5f99a87",
   "metadata": {},
   "outputs": [],
   "source": [
    "import json\n",
    "\n",
    "class JsonLinesIterator:\n",
    "    \"\"\"Json Lines data loader used in fit command\"\"\"\n",
    "    def __init__(self, filename: str):\n",
    "        self._filename = filename\n",
    "\n",
    "    def __iter__(self):\n",
    "        with open(self._filename) as fd:\n",
    "            for line in fd:\n",
    "                yield ConversationExample(conversation=json.loads(line))"
   ]
  },
  {
   "cell_type": "markdown",
   "id": "80978921",
   "metadata": {},
   "source": [
    "実際に使ってみましょう。サンプルデータ `data.jsonl` をロードしてみます。"
   ]
  },
  {
   "cell_type": "code",
   "execution_count": 6,
   "id": "1c441e44",
   "metadata": {},
   "outputs": [],
   "source": [
    "iterator = JsonLinesIterator(\"data.jsonl\")"
   ]
  },
  {
   "cell_type": "markdown",
   "id": "7835e653",
   "metadata": {},
   "source": [
    "ループで各発話を表示してみます。"
   ]
  },
  {
   "cell_type": "code",
   "execution_count": 7,
   "id": "0fd6f77e",
   "metadata": {},
   "outputs": [
    {
     "name": "stdout",
     "output_type": "stream",
     "text": [
      "conversation=['おはよう', 'おはよう。調子は？', 'いいです']\n",
      "conversation=['こんにちは', 'こんにちは、お昼食べた？', 'もう食べました']\n"
     ]
    }
   ],
   "source": [
    "for example in iterator:\n",
    "    print(example)"
   ]
  },
  {
   "cell_type": "markdown",
   "id": "ce46e4f6",
   "metadata": {},
   "source": [
    "うまく動いているようですね！\n",
    "\n",
    "では、次は実際に学習に使うデータセットからイテレータオブジェクトを準備しておきましょう。\n",
    "今回はColorful Scoopが所有する約1400万のマルチターンの会話データを使うことにします。\n",
    "ここから50万会話をバリデーションとテスト用に切り出しておきます。\n",
    "最終的には次のような学習ファイルを先程の JSON Lines フォーマットで準備します。\n",
    "\n",
    "| ファイル名 | データサイズ\n",
    "| --- | --- |\n",
    "| train.jsonl | 1300万会話 |\n",
    "| valid.jsonl | 50万会話 |\n",
    "| test.jsonl | 50万会話 |\n",
    "\n",
    "\n",
    "ファイルの準備ができたらイテレータを作成します。"
   ]
  },
  {
   "cell_type": "code",
   "execution_count": 8,
   "id": "8fd8ea7d",
   "metadata": {},
   "outputs": [],
   "source": [
    "train_iterator = JsonLinesIterator(\"train.jsonl\")\n",
    "valid_iterator = JsonLinesIterator(\"valid.jsonl\")\n",
    "test_iterator = JsonLinesIterator(\"test.jsonl\")"
   ]
  },
  {
   "cell_type": "markdown",
   "id": "4d50cb7c",
   "metadata": {},
   "source": [
    "### モデルの初期化\n",
    "\n",
    "学習データの準備ができたら、学習に使うモデルを初期化します。\n",
    "トークナイザの時と同様、デコーダモデルであればどの学習済みモデルでも問題ないですが、\n",
    "ここでもColorful Scoopが提供しているモデル\n",
    "[colorfulscoop/gpt2-small-ja](https://huggingface.co/colorfulscoop/gpt2-small-ja)\n",
    "を使いたいと思います。"
   ]
  },
  {
   "cell_type": "code",
   "execution_count": 9,
   "id": "c3463291",
   "metadata": {},
   "outputs": [],
   "source": [
    "from convmodel import ConversationModel\n",
    "\n",
    "model = ConversationModel.from_pretrained(\"colorfulscoop/gpt2-small-ja\")"
   ]
  },
  {
   "cell_type": "markdown",
   "id": "76c0bfa0",
   "metadata": {},
   "source": [
    "チュートリアルのはじめでトークナイザ `ConversationTokenizer` の説明をしましたが、それは内部の挙動を説明するためでした。\n",
    "実際には、トークナイザは `ConversationModel` の中で初期化されて必要に応じて会話をトークナイズしてくれますので、\n",
    "convmodelを使う中でトークナイザを直接利用する必要はありません。\n",
    "\n",
    "さて、モデルを初期化できましたので、学習の仕方を見ていきましょう。"
   ]
  },
  {
   "cell_type": "markdown",
   "id": "c3cd66f4",
   "metadata": {},
   "source": [
    "### 学習の実行\n",
    "\n",
    "学習には `ConversationModel.fit` メソッドを使います。\n",
    "学習に必須の引数は、学習・検証データとなります。\n",
    "次のように `fit` メソッドの `train_iterator` と `valid_iterator` 引数に先程定義したイテレータを渡すことで学習を行えます。\n",
    "\n",
    "```py\n",
    "model.fit(train_iterator=train_iterator, valid_iterator=valid_iterator)\n",
    "```\n",
    "\n",
    "これでも学習できるのですが、ここでは便利なオプション `output_path` と `save_best_model` も指定したいと思います。\n",
    "\n",
    "* `output_path` を指定することで学習したモデルをエポックの終わりに指定したディレクトリ以下に保存するようになります。\n",
    "これにより、学習途中でもモデルを試すことができます。\n",
    "* `output_path` とともに `save_best_model=True` を指定すると、バリデーションデータに対してパープレキシティの意味で最も性能のよいモデルを保存します。\n",
    "\n",
    "これらのオプションを指定して学習を実行してみましょう。\n",
    "下の例ではさらにいくつかオプションを指定しています。各オプションの意味はコメントを参考にしてください。\n",
    "\n",
    "```py\n",
    "model.fit(\n",
    "    train_iterator=train_iterator,\n",
    "    valid_iterator=valid_iterator,\n",
    "    output_path=\"model\",\n",
    "    save_best_model=True,\n",
    "    # 学習率を初めの10,000ステップで0から線形に増加させる\n",
    "    warmup_steps=10000,\n",
    "    # Mixed precisoinを使う\n",
    "    use_amp=True,\n",
    "    # 学習エポック数\n",
    "    epochs=5,\n",
    "    # バッチサイズ\n",
    "    batch_size=16,\n",
    "    # 何バッチごとにパラメータを更新するかの設定。\n",
    "    # この設定では 16*4 = 64 サンプルごとにパラメータ更新することになる\n",
    "    accumulation_steps=4,\n",
    "    # 学習データをシャッフルするバッファサイズ\n",
    "    shuffle_buffer_size=100000,\n",
    "    # シード\n",
    "    seed=1000,\n",
    ")\n",
    "```\n",
    "\n",
    "実行時のログは以下のようになります。少し長いので最後のバリデーションの結果のみ表示します。\n",
    "\n",
    "```\n",
    "...\n",
    "{'epoch': 5, 'valid_loss': 3.288458056575775, 'valid_ppl': 26.801505373057534, 'save_model': True}\n",
    "```"
   ]
  },
  {
   "cell_type": "markdown",
   "id": "5d10a787",
   "metadata": {},
   "source": [
    "学習が完了すると `output_path` で指定したディレクトリ以下にモデルが保存されていることが確認できます。"
   ]
  },
  {
   "cell_type": "code",
   "execution_count": 13,
   "id": "2485782c",
   "metadata": {},
   "outputs": [
    {
     "name": "stdout",
     "output_type": "stream",
     "text": [
      "config.json\r\n",
      "pytorch_model.bin\r\n",
      "special_tokens_map.json\r\n",
      "spiece.model\r\n",
      "tokenizer_config.json\r\n"
     ]
    }
   ],
   "source": [
    "!ls -1 model"
   ]
  },
  {
   "cell_type": "markdown",
   "id": "d35b27e2",
   "metadata": {},
   "source": [
    "## 評価\n",
    "\n",
    "モデルが学習できたらテストセットで評価してみましょう。\n",
    "\n",
    "まずは学習したモデルをロードします。\n",
    "ロードにはモデル初期化時と同じ ConversationModel.from_pretrained メソッドを使います。\n",
    "ただし、今回は学習モデルを保存したディレクトリを指定します。"
   ]
  },
  {
   "cell_type": "code",
   "execution_count": 14,
   "id": "83c10b1c",
   "metadata": {},
   "outputs": [],
   "source": [
    "model = ConversationModel.from_pretrained(\"model\")"
   ]
  },
  {
   "cell_type": "markdown",
   "id": "9ae2526f",
   "metadata": {},
   "source": [
    "モデルがロードできたら、評価には `ConversationModel.eval` メソッドでモデルを評価します。\n",
    "\n",
    "```py\n",
    "model.eval(eval_iterator=test_iterator, batch_size=16)\n",
    "```\n",
    "\n",
    "評価が完了すると評価結果のパープレキシティが表示されます。\n",
    "\n",
    "```\n",
    "{'eval_loss': 3.2796722898864745, 'eval_ppl': 26.56706497726777}\n",
    "```"
   ]
  },
  {
   "cell_type": "markdown",
   "id": "c17d307b",
   "metadata": {},
   "source": [
    "## 応答生成\n",
    "\n",
    "モデルが学習できたら、応答を生成してみましょう。\n",
    "\n",
    "応答の生成には `ConversationModel.generate` メソッドを使います。\n",
    "引数の `context` に会話のコンテキストを指定します。\n",
    "\n",
    "`generate` メソッドには transformers の [generate](https://huggingface.co/transformers/main_classes/model.html?highlight=generate#transformers.generation_utils.GenerationMixin.generate) メソッドの任意のパラメータを指定できます。\n",
    "ここでは `do_sample`, `top_p`, `top_k` を指定してみます。\n",
    "これらのオプションについては [Hugging Face ブログ](https://huggingface.co/blog/how-to-generate) に詳しい説明があるので一度読んでみることをお勧めします。\n",
    "\n",
    "`generate` メソッドはコンテキストとオプションが渡されると、`sep_token` が現れるまで順次トークンを生成していきます。\n",
    "\n",
    "では実際に生成してみましょう。"
   ]
  },
  {
   "cell_type": "code",
   "execution_count": 11,
   "id": "d08d3b6a",
   "metadata": {},
   "outputs": [
    {
     "data": {
      "text/plain": [
       "ConversationModelOutput(responses=['なら良かった....。'], context=['おはよう', 'おはよう。調子は？', 'いいです'])"
      ]
     },
     "execution_count": 11,
     "metadata": {},
     "output_type": "execute_result"
    }
   ],
   "source": [
    "model.generate(\n",
    "    context=[\"おはよう\", \"おはよう。調子は？\", \"いいです\"],\n",
    "    do_sample=True,\n",
    "    top_p=0.95,\n",
    "    top_k=50,\n",
    "    max_length=1024,\n",
    ")"
   ]
  },
  {
   "cell_type": "markdown",
   "id": "6142a03f",
   "metadata": {},
   "source": [
    "結果は `ConversationModelOutput` オブジェクトとして返ってきます。\n",
    "`responses` 属性にアクセスすることで応答文を取り出すことができます。\n",
    "\n",
    "また `num_return_sequences` を指定することで複数の応答文を生成することも可能です。\n",
    "試してみましょう。"
   ]
  },
  {
   "cell_type": "code",
   "execution_count": 12,
   "id": "2b771cc9",
   "metadata": {},
   "outputs": [
    {
     "data": {
      "text/plain": [
       "ConversationModelOutput(responses=['なら良かったよ。じゃ、今度通話する?', 'ならよかった', '今日はどうするの?'], context=['おはよう', 'おはよう。調子は？', 'いいです'])"
      ]
     },
     "execution_count": 12,
     "metadata": {},
     "output_type": "execute_result"
    }
   ],
   "source": [
    "model.generate(\n",
    "    context=[\"おはよう\", \"おはよう。調子は？\", \"いいです\"],\n",
    "    do_sample=True,\n",
    "    top_p=0.95,\n",
    "    top_k=50,\n",
    "    max_length=1024,\n",
    "    num_return_sequences=3\n",
    ")"
   ]
  },
  {
   "cell_type": "markdown",
   "id": "d60ca595",
   "metadata": {},
   "source": [
    "## まとめ\n",
    "\n",
    "ここまでで convmodel のチュートリアルは終了となります。\n",
    "最後にまとめておきましょう。\n",
    "\n",
    "convmodelは生成アプローチによる会話モデルのフレームワークで [transformers](https://github.com/huggingface/transformers) の\n",
    "[デコーダモデル](https://huggingface.co/transformers/model_summary.html#decoders-or-autoregressive-models)をモデルとして使い、便利な学習・応答生成インターフェースを提供します。\n",
    "\n",
    "現時点では実験的な機能ですが、学習・評価・トライのループを補助する [convmodel CLI](https://colorfulscoop.github.io/convmodel-docs/cli/) も実装しています。\n",
    "\n",
    "convmodeのコードとドキュメントは以下からどうぞ。\n",
    "\n",
    "* [GitHub](https://github.com/colorfulscoop/convmodel)\n",
    "* [ドキュメント(英語)](https://colorfulscoop.github.io/convmodel-docs/)"
   ]
  },
  {
   "cell_type": "markdown",
   "id": "bc8a7417",
   "metadata": {},
   "source": [
    "さて、ぽじぶーちゃんはここ最近働きづめだったので、しばらく休憩をとりに行くのでした。\n",
    "\n",
    "![20211002-0](20211002-02.jpg)\n",
    "\n"
   ]
  }
 ],
 "metadata": {
  "kernelspec": {
   "display_name": "Python 3 (ipykernel)",
   "language": "python",
   "name": "python3"
  },
  "language_info": {
   "codemirror_mode": {
    "name": "ipython",
    "version": 3
   },
   "file_extension": ".py",
   "mimetype": "text/x-python",
   "name": "python",
   "nbconvert_exporter": "python",
   "pygments_lexer": "ipython3",
   "version": "3.8.6"
  }
 },
 "nbformat": 4,
 "nbformat_minor": 5
}
