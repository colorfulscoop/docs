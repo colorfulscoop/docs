{
 "cells": [
  {
   "cell_type": "markdown",
   "id": "needed-devil",
   "metadata": {},
   "source": [
    "---\n",
    "created_on: 2021/06/28\n",
    "updated_on: 2021/06/28\n",
    "---"
   ]
  },
  {
   "cell_type": "markdown",
   "id": "distributed-confirmation",
   "metadata": {},
   "source": [
    "# PyTorch 1.9.0 で BufferedShuffleDataset を使う"
   ]
  },
  {
   "cell_type": "markdown",
   "id": "muslim-feelings",
   "metadata": {},
   "source": [
    "## BufferedShuffleDataset とは\n",
    "\n",
    "機械学習、とりわけ深層学習でで大きなデータを扱うときに、はじめにメモリにすべてロードすることができない場合は少なくありません。\n",
    "\n",
    "そんな大きなデータセットを扱う上で便利なのが PyTorch の [iterable-style dataset](https://pytorch.org/docs/stable/data.html#dataset-types) です。\n",
    "Iterable-style dataset を使うことで、サンプルをはじめに全てロードすることなく、学習に必要になったときにサンプルを準備して返すことができます。\n",
    "                                                          \n",
    "その際に問題になるのが学習データのシャッフルです。\n",
    "Map-style dataset では、[DataLoader](https://pytorch.org/docs/stable/data.html#torch.utils.data.DataLoader) の `shuffle` パラメータを `True` に設定することで学習データをシャッフルします。\n",
    "一方で iterable-style dataset でははじめに全データをロードするわけではなく、この方法が使えません。実際、iterable-style dataset で `shuffle` パラメータを `True` に設定すると例外が発生します。\n",
    "\n",
    "この問題に対処するために、PyTorch 1.8.1 では [BufferedShuffleDataset](https://pytorch.org/docs/1.8.1/data.html#torch.utils.data.BufferedShuffleDataset) が提供されていました。\n",
    "\n",
    "```py\n",
    "torch.utils.data.BufferedShuffleDataset(dataset, buffer_size)\n",
    "```\n",
    "\n",
    "BufferedShuffleDatasetは `buffer_size` で指定したサイズのバッファを内部で作成し、サンプルはまずバッファに格納されます。\n",
    "そして、バッファが満たされたらそのうちの一つをランダムサンプルして返します。そうするとバッファに一つ空きができますので、次のサンプルをバッファに格納します。\n",
    "これを続けることで、バッファサイズ分のシャッフルを行いながらサンプルを返していくのです。\n"
   ]
  },
  {
   "cell_type": "markdown",
   "id": "exclusive-heavy",
   "metadata": {},
   "source": [
    "## PyTorch を 1.9.0 に更新してみたら\n",
    "\n",
    "今回 PyTorch を 1.8.1 から 1.9.0 に上げてみたところ、\n",
    "\n",
    "```py\n",
    ">>> import torch\n",
    ">>> torch.utils.data.BufferedShuffleDataset\n",
    "Traceback (most recent call last):\n",
    "  File \"<stdin>\", line 1, in <module>\n",
    "AttributeError: module 'torch.utils.data' has no attribute 'BufferedShuffleDataset'\n",
    "```\n",
    "\n",
    "のようなエラーが出てしまいました。"
   ]
  },
  {
   "cell_type": "markdown",
   "id": "reserved-native",
   "metadata": {},
   "source": [
    "ぶーちゃんもショックを受けているようです。\n",
    "\n",
    "> ぶーちゃん：ぶ〜〜〜〜。。。。（うーなんでエラーが出ちゃうんだろう、しょんぼり。。。）\n",
    "\n",
    "<img src=\"20210628-01.png\">"
   ]
  },
  {
   "cell_type": "markdown",
   "id": "agreed-turtle",
   "metadata": {},
   "source": [
    "## 原因調査\n",
    "\n",
    "PyTorchのコミットを調べてみると次のようなものを見つけました。\n",
    "\n",
    "[https://github.com/pytorch/pytorch/commit/89b1053413dab77c9a6c67da5a54ab9bbad1fbdd#diff-425b66e1ff01d191679c386258a7156dfb5aacd64a8e0947b24fbdebcbee8529](https://github.com/pytorch/pytorch/commit/89b1053413dab77c9a6c67da5a54ab9bbad1fbdd#diff-425b66e1ff01d191679c386258a7156dfb5aacd64a8e0947b24fbdebcbee8529)\n",
    "\n",
    "コミットを読んでいくと、どうやら`torch.utils.data` 以下から DataPipe という機能群に移されたようです。\n",
    "\n",
    "実際にコードを確認すると `torch.utils.data.datapipes.iter.combinatorics` で `ShuffleIterDataPipe` というクラスで定義され、torch.utils.data.datapipes.iter の名前空間で Shuffle という名前でimport されていることがわかります。\n",
    "\n",
    "* [https://github.com/pytorch/pytorch/blob/v1.9.0/torch/utils/data/datapipes/iter/combining.py#L43](https://github.com/pytorch/pytorch/blob/v1.9.0/torch/utils/data/datapipes/iter/combining.py#L43)\n",
    "* [https://github.com/pytorch/pytorch/blob/v1.9.0/torch/utils/data/datapipes/iter/__init__.py](https://github.com/pytorch/pytorch/blob/v1.9.0/torch/utils/data/datapipes/iter/__init__.py)\n",
    "\n",
    "ということは、次のようにすればうまく動くのでは...\n",
    "\n"
   ]
  },
  {
   "cell_type": "markdown",
   "id": "atmospheric-balance",
   "metadata": {},
   "source": [
    "\n",
    "> ぶーちゃん：ターンッ！（うごけ！）\n",
    "\n",
    "<img src=\"20210628-02.png\">"
   ]
  },
  {
   "cell_type": "markdown",
   "id": "vocal-incentive",
   "metadata": {},
   "source": [
    "```py\n",
    ">>> torch.utils.data.datapipes.iter.Shuffle\n",
    "<class 'torch.utils.data.datapipes.iter.combinatorics.ShuffleIterDataPipe'>\n",
    "```\n",
    "\n",
    "インポートできているようです。\n",
    "実際に引数にジェネレータを渡して動くか確かめてみましょう。\n",
    "\n",
    "```py\n",
    ">>> shuffle_dataset = torch.utils.data.datapipes.iter.Shuffle(range(10), buffer_size=3)\n",
    ">>> list(shuffle_dataset)\n",
    "[2, 0, 3, 5, 1, 6, 7, 8, 4, 9]\n",
    "```\n",
    "\n",
    "期待通り動いているようですね！"
   ]
  },
  {
   "cell_type": "markdown",
   "id": "noticed-heather",
   "metadata": {},
   "source": [
    "> ぶーちゃん：ぶおぉぉぉおおおっ！！！！（うまくいった！喜んだときの得意技、耳倒立）\n",
    "\n",
    "\n",
    "<img src=\"20210628-03.png\">"
   ]
  },
  {
   "cell_type": "markdown",
   "id": "raised-pearl",
   "metadata": {},
   "source": [
    "## まとめ\n",
    "\n",
    "今回は PyTorch 1.8.1 で提供されていた ShuffledBufferDataset が PyTorch 1.9.0 でインポートできてなくなっている原因を調べました。\n",
    "コミットを調査すると `torch.utils.data.datapipes.iter.Shuffle` に移動したようです。\n",
    "\n",
    "[PyTorch 1.9.0 のリリースノート](https://github.com/pytorch/pytorch/releases/tag/v1.9.0) にも書かれていなかったのであまり使われていない機能なのでしょうか。\n",
    "\n",
    "もともと TensorFlow を使っていて tf.data.Dataset の [shuffle](https://www.tensorflow.org/api_docs/python/tf/data/Dataset#shuffle)\n",
    "でバッファ付きのシャッフルという機能を知り、その後 PyTorch 1.8.1 で PyTorch に移行してきてから同等の機能を求めてドキュメントを読んでいたら見つけたクラスでした。\n",
    "PyTorch 1.9.0 のリリースで削除されてしまったかと思いましたが、少なくとも今のところは `torch.utils.data.datapipes.iter.Shuffle` を利用すればよさそうです。\n"
   ]
  }
 ],
 "metadata": {
  "kernelspec": {
   "display_name": "Python 3",
   "language": "python",
   "name": "python3"
  },
  "language_info": {
   "codemirror_mode": {
    "name": "ipython",
    "version": 3
   },
   "file_extension": ".py",
   "mimetype": "text/x-python",
   "name": "python",
   "nbconvert_exporter": "python",
   "pygments_lexer": "ipython3",
   "version": "3.8.1"
  }
 },
 "nbformat": 4,
 "nbformat_minor": 5
}
